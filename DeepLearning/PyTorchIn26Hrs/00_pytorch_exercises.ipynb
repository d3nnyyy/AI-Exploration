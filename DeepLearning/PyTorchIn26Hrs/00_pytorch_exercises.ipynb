{
  "nbformat": 4,
  "nbformat_minor": 0,
  "metadata": {
    "colab": {
      "provenance": [],
      "gpuType": "T4",
      "authorship_tag": "ABX9TyNv/Gp08k12qamOtIbsGMco",
      "include_colab_link": true
    },
    "kernelspec": {
      "name": "python3",
      "display_name": "Python 3"
    },
    "language_info": {
      "name": "python"
    },
    "accelerator": "GPU"
  },
  "cells": [
    {
      "cell_type": "markdown",
      "metadata": {
        "id": "view-in-github",
        "colab_type": "text"
      },
      "source": [
        "<a href=\"https://colab.research.google.com/github/d3nnyyy/AI-Exploration/blob/master/DeepLearning/PyTorchIn26Hrs/00_pytorch_exercises.ipynb\" target=\"_parent\"><img src=\"https://colab.research.google.com/assets/colab-badge.svg\" alt=\"Open In Colab\"/></a>"
      ]
    },
    {
      "cell_type": "markdown",
      "source": [
        "1. Documentation reading - A big part of deep learning (and learning to code in general) is getting familiar with the documentation of a certain framework you're using. We'll be using the PyTorch documentation a lot throughout the rest of this course. So I'd recommend spending 10-minutes reading the following (it's okay if you don't get some things for now, the focus is not yet full understanding, it's awareness). See the documentation on `torch.Tensor` and for `torch.cuda`."
      ],
      "metadata": {
        "id": "31_EL_qgd6ac"
      }
    },
    {
      "cell_type": "markdown",
      "source": [
        "2. Create a random tensor with shape (7, 7)."
      ],
      "metadata": {
        "id": "V9dZPsmId_K1"
      }
    },
    {
      "cell_type": "code",
      "source": [
        "import torch\n",
        "random_tensor = torch.rand(7,7)\n",
        "random_tensor"
      ],
      "metadata": {
        "colab": {
          "base_uri": "https://localhost:8080/"
        },
        "id": "EkebtM__h3hj",
        "outputId": "bbdb4b70-19ea-4a29-8710-25f46ef97556"
      },
      "execution_count": 2,
      "outputs": [
        {
          "output_type": "execute_result",
          "data": {
            "text/plain": [
              "tensor([[0.5475, 0.3930, 0.2533, 0.2230, 0.9504, 0.7542, 0.8711],\n",
              "        [0.3997, 0.5599, 0.1151, 0.1373, 0.3219, 0.9051, 0.2309],\n",
              "        [0.6001, 0.9152, 0.6415, 0.4174, 0.7054, 0.6363, 0.4509],\n",
              "        [0.9571, 0.3651, 0.2503, 0.4532, 0.4929, 0.1551, 0.7517],\n",
              "        [0.8258, 0.4521, 0.3123, 0.6483, 0.7338, 0.7088, 0.8318],\n",
              "        [0.4120, 0.9829, 0.3430, 0.6473, 0.4357, 0.0755, 0.5263],\n",
              "        [0.5052, 0.5369, 0.4432, 0.7191, 0.8846, 0.7045, 0.4142]])"
            ]
          },
          "metadata": {},
          "execution_count": 2
        }
      ]
    },
    {
      "cell_type": "markdown",
      "source": [
        "3. Perform a matrix multiplication on the tensor from 2 with another random tensor with shape (1, 7) (hint: you may have to transpose the second tensor).\n"
      ],
      "metadata": {
        "id": "_NiPwNpJh9KD"
      }
    },
    {
      "cell_type": "code",
      "source": [
        "random_tensor @ torch.rand(1,7).T"
      ],
      "metadata": {
        "colab": {
          "base_uri": "https://localhost:8080/"
        },
        "id": "ETeNUsrdiMLb",
        "outputId": "d31cc441-18cc-4282-e9d3-e0e9ca5cdb9d"
      },
      "execution_count": 3,
      "outputs": [
        {
          "output_type": "execute_result",
          "data": {
            "text/plain": [
              "tensor([[1.8356],\n",
              "        [1.1713],\n",
              "        [1.5797],\n",
              "        [1.2663],\n",
              "        [1.9389],\n",
              "        [1.1937],\n",
              "        [1.7521]])"
            ]
          },
          "metadata": {},
          "execution_count": 3
        }
      ]
    },
    {
      "cell_type": "markdown",
      "source": [
        "4. Set the random seed to 0 and do exercises 2 & 3 over again.\n"
      ],
      "metadata": {
        "id": "Z8d7MKB4iS3J"
      }
    },
    {
      "cell_type": "code",
      "source": [
        "RANDOM_SEED = 42\n",
        "torch.manual_seed(RANDOM_SEED)\n",
        "random_tensor_A = torch.rand(7,7)\n",
        "torch.manual_seed(RANDOM_SEED)\n",
        "random_tensor_B = torch.rand(1,7)\n",
        "random_tensor_A @ random_tensor_B.T"
      ],
      "metadata": {
        "colab": {
          "base_uri": "https://localhost:8080/"
        },
        "id": "URWRWN5ciX8k",
        "outputId": "400854ad-6df1-45a1-dfe9-91befee54780"
      },
      "execution_count": 4,
      "outputs": [
        {
          "output_type": "execute_result",
          "data": {
            "text/plain": [
              "tensor([[3.2618],\n",
              "        [3.4084],\n",
              "        [2.4866],\n",
              "        [1.4525],\n",
              "        [1.7079],\n",
              "        [2.7291],\n",
              "        [2.9204]])"
            ]
          },
          "metadata": {},
          "execution_count": 4
        }
      ]
    },
    {
      "cell_type": "markdown",
      "source": [
        "5. Speaking of random seeds, we saw how to set it with torch.manual_seed() but is there a GPU equivalent? (hint: you'll need to look into the documentation for torch.cuda for this one). If there is, set the GPU random seed to 1234.\n"
      ],
      "metadata": {
        "id": "4Q1yPlS1iqBb"
      }
    },
    {
      "cell_type": "code",
      "source": [
        "GPU_RANDOM_SEED = 1234"
      ],
      "metadata": {
        "id": "wifrT7eYjhMP"
      },
      "execution_count": 10,
      "outputs": []
    },
    {
      "cell_type": "markdown",
      "source": [
        "6. Create two random tensors of shape (2, 3) and send them both to the GPU (you'll need access to a GPU for this). Set torch.manual_seed(1234) when creating the tensors (this doesn't have to be the GPU random seed).\n"
      ],
      "metadata": {
        "id": "LRc-JO2XjqMF"
      }
    },
    {
      "cell_type": "code",
      "source": [
        "torch.cuda.manual_seed(GPU_RANDOM_SEED)\n",
        "gpu_rand_tensor_1 = torch.rand(2,3, device=\"cuda\")\n",
        "torch.cuda.manual_seed(GPU_RANDOM_SEED)\n",
        "gpu_rand_tensor_2 = torch.rand(2,3, device=\"cuda\")\n",
        "\n",
        "gpu_rand_tensor_1, gpu_rand_tensor_2"
      ],
      "metadata": {
        "colab": {
          "base_uri": "https://localhost:8080/"
        },
        "id": "sASc34-GjyEh",
        "outputId": "285d4abe-4279-42a5-ab6b-f777399746ca"
      },
      "execution_count": 13,
      "outputs": [
        {
          "output_type": "execute_result",
          "data": {
            "text/plain": [
              "(tensor([[0.1272, 0.8167, 0.5440],\n",
              "         [0.6601, 0.2721, 0.9737]], device='cuda:0'),\n",
              " tensor([[0.1272, 0.8167, 0.5440],\n",
              "         [0.6601, 0.2721, 0.9737]], device='cuda:0'))"
            ]
          },
          "metadata": {},
          "execution_count": 13
        }
      ]
    },
    {
      "cell_type": "markdown",
      "source": [
        "7. Perform a matrix multiplication on the tensors you created in 6 (again, you may have to adjust the shapes of one of the tensors)."
      ],
      "metadata": {
        "id": "k1ytg5mrkLEV"
      }
    },
    {
      "cell_type": "code",
      "source": [
        "matrix_mul = torch.mm(gpu_rand_tensor_1,gpu_rand_tensor_2.T)\n",
        "matrix_mul"
      ],
      "metadata": {
        "colab": {
          "base_uri": "https://localhost:8080/"
        },
        "id": "UeGSvM4rkoB8",
        "outputId": "b7c1cdd1-c5f6-4ac6-99a7-81971bbe94c0"
      },
      "execution_count": 14,
      "outputs": [
        {
          "output_type": "execute_result",
          "data": {
            "text/plain": [
              "tensor([[0.9792, 0.8358],\n",
              "        [0.8358, 1.4578]], device='cuda:0')"
            ]
          },
          "metadata": {},
          "execution_count": 14
        }
      ]
    },
    {
      "cell_type": "markdown",
      "source": [
        "8. Find the maximum and minimum values of the output of 7.\n"
      ],
      "metadata": {
        "id": "mdOQJKcgkqf7"
      }
    },
    {
      "cell_type": "code",
      "source": [
        "torch.min(matrix_mul)"
      ],
      "metadata": {
        "colab": {
          "base_uri": "https://localhost:8080/"
        },
        "id": "Wpexi7Yekt0R",
        "outputId": "0515f00d-3695-4134-832a-50d0e088a3d3"
      },
      "execution_count": 15,
      "outputs": [
        {
          "output_type": "execute_result",
          "data": {
            "text/plain": [
              "tensor(0.8358, device='cuda:0')"
            ]
          },
          "metadata": {},
          "execution_count": 15
        }
      ]
    },
    {
      "cell_type": "markdown",
      "source": [
        "9. Find the maximum and minimum index values of the output of 7.\n"
      ],
      "metadata": {
        "id": "r14cSsV1kw8o"
      }
    },
    {
      "cell_type": "code",
      "source": [
        "max_index = torch.argmax(matrix_mul)\n",
        "min_index = torch.argmin(matrix_mul)\n",
        "max_index, min_index"
      ],
      "metadata": {
        "colab": {
          "base_uri": "https://localhost:8080/"
        },
        "id": "5FNOICJWk1vA",
        "outputId": "4f219b43-8b50-4dab-982b-d5e6f42a9f94"
      },
      "execution_count": 16,
      "outputs": [
        {
          "output_type": "execute_result",
          "data": {
            "text/plain": [
              "(tensor(3, device='cuda:0'), tensor(1, device='cuda:0'))"
            ]
          },
          "metadata": {},
          "execution_count": 16
        }
      ]
    },
    {
      "cell_type": "markdown",
      "source": [
        "10. Make a random tensor with shape (1, 1, 1, 10) and then create a new tensor with all the 1 dimensions removed to be left with a tensor of shape (10). Set the seed to 7 when you create it and print out the first tensor and it's shape as well as the second tensor and it's shape.\n"
      ],
      "metadata": {
        "id": "RjFbdgHVk_3Q"
      }
    },
    {
      "cell_type": "code",
      "source": [
        "torch.manual_seed(7)\n",
        "x = torch.rand(1,1,1,10)\n",
        "x_without_1s = x.squeeze()\n",
        "x.shape, x_without_1s.shape"
      ],
      "metadata": {
        "colab": {
          "base_uri": "https://localhost:8080/"
        },
        "id": "SlombPNNlIT3",
        "outputId": "0da0e97b-a8ec-4289-c4ee-898c0ec10401"
      },
      "execution_count": 19,
      "outputs": [
        {
          "output_type": "execute_result",
          "data": {
            "text/plain": [
              "(torch.Size([1, 1, 1, 10]), torch.Size([10]))"
            ]
          },
          "metadata": {},
          "execution_count": 19
        }
      ]
    },
    {
      "cell_type": "code",
      "source": [],
      "metadata": {
        "id": "qqUkH1qjlPOb"
      },
      "execution_count": null,
      "outputs": []
    }
  ]
}